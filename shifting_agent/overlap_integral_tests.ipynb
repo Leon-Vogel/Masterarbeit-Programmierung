{
 "cells": [
  {
   "cell_type": "code",
   "execution_count": 730,
   "metadata": {},
   "outputs": [
    {
     "name": "stdout",
     "output_type": "stream",
     "text": [
      "The autoreload extension is already loaded. To reload it, use:\n",
      "  %reload_ext autoreload\n"
     ]
    }
   ],
   "source": [
    "%reset -f\n",
    "%load_ext autoreload\n",
    "%autoreload 2\n",
    "\n",
    "import numpy as np\n",
    "from scipy.stats import gamma\n",
    "from scipy import integrate\n",
    "from scipy.misc import derivative\n",
    "import matplotlib.pyplot as plt\n",
    "import math\n",
    "from numba import njit"
   ]
  },
  {
   "cell_type": "code",
   "execution_count": 731,
   "metadata": {},
   "outputs": [],
   "source": [
    "def gamma_mean(shape, scale):\n",
    "    return gamma.mean(shape, scale=scale)"
   ]
  },
  {
   "cell_type": "code",
   "execution_count": 732,
   "metadata": {},
   "outputs": [
    {
     "data": {
      "text/plain": [
       "{'start': 0, 'min_time': 5, 'shape': 4, 'scale': 1, 'mean_time': 9.0}"
      ]
     },
     "execution_count": 732,
     "metadata": {},
     "output_type": "execute_result"
    }
   ],
   "source": [
    "shape = 4\n",
    "scale = 1\n",
    "\n",
    "op1 = {\n",
    "    \"start\": 0,\n",
    "    \"min_time\": 5,\n",
    "    \"shape\": shape,\n",
    "    \"scale\": scale,\n",
    "}\n",
    "op1[\"mean_time\"] = gamma_mean(op1[\"shape\"], op1[\"scale\"]) + op1[\"min_time\"]\n",
    "op1"
   ]
  },
  {
   "cell_type": "code",
   "execution_count": 733,
   "metadata": {},
   "outputs": [],
   "source": [
    "op2_start = 10"
   ]
  },
  {
   "attachments": {},
   "cell_type": "markdown",
   "metadata": {},
   "source": [
    "<h1>Method A</h2>"
   ]
  },
  {
   "cell_type": "code",
   "execution_count": 734,
   "metadata": {},
   "outputs": [
    {
     "data": {
      "text/plain": [
       "5"
      ]
     },
     "execution_count": 734,
     "metadata": {},
     "output_type": "execute_result"
    }
   ],
   "source": [
    "critical_x = op2_start - op1[\"start\"] - op1[\"min_time\"]\n",
    "critical_x"
   ]
  },
  {
   "cell_type": "code",
   "execution_count": 735,
   "metadata": {},
   "outputs": [
    {
     "data": {
      "text/plain": [
       "0.2650259152973615"
      ]
     },
     "execution_count": 735,
     "metadata": {},
     "output_type": "execute_result"
    }
   ],
   "source": [
    "p = gamma.sf(critical_x, op1[\"shape\"], scale=op1[\"scale\"])\n",
    "p"
   ]
  },
  {
   "cell_type": "code",
   "execution_count": 736,
   "metadata": {},
   "outputs": [
    {
     "data": {
      "text/plain": [
       "13"
      ]
     },
     "execution_count": 736,
     "metadata": {},
     "output_type": "execute_result"
    }
   ],
   "source": [
    "worst_case_x = op1[\"start\"] + op1[\"min_time\"] + op1[\"shape\"] * 2 * op1[\"scale\"]\n",
    "worst_case_x"
   ]
  },
  {
   "cell_type": "code",
   "execution_count": 737,
   "metadata": {},
   "outputs": [],
   "source": [
    "\n",
    "@njit(nogil=True, fastmath=True, cache=True)\n",
    "def f(x, shape, scale, p):\n",
    "    rate = 1 / scale \n",
    "    e = np.exp(-rate*x)\n",
    "    y = (rate ** shape / math.gamma(shape)) * x ** (shape-1) * e\n",
    "    y = y * x / p\n",
    "    return y\n",
    "\n",
    "step = 0.04  # adjust this based on the required precision\n",
    "x_values = np.arange(critical_x, worst_case_x, step)\n",
    "y_values = f(x_values, op1[\"shape\"], op1[\"scale\"], p)"
   ]
  },
  {
   "cell_type": "code",
   "execution_count": 738,
   "metadata": {},
   "outputs": [
    {
     "data": {
      "image/png": "[encoded data removed]",
      "text/plain": [
       "<Figure size 640x480 with 1 Axes>"
      ]
     },
     "metadata": {},
     "output_type": "display_data"
    }
   ],
   "source": [
    "plt.bar(x_values, y_values)\n",
    "plt.xlabel('X Values')\n",
    "plt.ylabel('Y Values')\n",
    "plt.title('Uncertain processing time of op1')\n",
    "plt.show()"
   ]
  },
  {
   "cell_type": "code",
   "execution_count": 739,
   "metadata": {},
   "outputs": [
    {
     "data": {
      "text/plain": [
       "1.590275137425019"
      ]
     },
     "execution_count": 739,
     "metadata": {},
     "output_type": "execute_result"
    }
   ],
   "source": [
    "overlap = np.trapz(y_values, x_values) - critical_x # -critical neccessary?\n",
    "overlap"
   ]
  },
  {
   "cell_type": "code",
   "execution_count": 740,
   "metadata": {},
   "outputs": [
    {
     "data": {
      "text/plain": [
       "0.42146412387070303"
      ]
     },
     "execution_count": 740,
     "metadata": {},
     "output_type": "execute_result"
    }
   ],
   "source": [
    "overlap = overlap * p\n",
    "overlap"
   ]
  },
  {
   "attachments": {},
   "cell_type": "markdown",
   "metadata": {},
   "source": [
    "<h1>Method B</h1>"
   ]
  },
  {
   "cell_type": "code",
   "execution_count": 741,
   "metadata": {},
   "outputs": [
    {
     "name": "stdout",
     "output_type": "stream",
     "text": [
      "worst case: 13\n",
      "critical: 5\n",
      "p: 0.2650259152973615\n"
     ]
    }
   ],
   "source": [
    "print(f\"worst case: {worst_case_x}\")\n",
    "print(f\"critical: {critical_x}\")\n",
    "print(f\"p: {p}\")"
   ]
  },
  {
   "cell_type": "code",
   "execution_count": 742,
   "metadata": {},
   "outputs": [],
   "source": [
    "def pdf_ableitung(x, shape, scale):\n",
    "    return gamma.pdf(x, shape, scale=scale) * x #(shape / x - scale)\n",
    "\n",
    "def pdf_ableitung2(x, shape, scale): # händisch\n",
    "    rate = 1 / scale\n",
    "    abl = rate**shape * x**(shape-2) * (rate*x - shape + 1) * np.exp(-rate*x)\n",
    "    abl = abl / math.gamma(shape)\n",
    "    return abl\n",
    "\n",
    "def pdf_ableitung3(x, shape, scale): # scipy (gleiches ergebnis wie händisch)\n",
    "    return derivative(lambda x: gamma.pdf(x, shape, scale=scale), x, dx=1e-6)\n",
    "\n",
    "def f(x):\n",
    "    return pdf_ableitung2(x, shape, scale) / p"
   ]
  },
  {
   "cell_type": "code",
   "execution_count": 743,
   "metadata": {},
   "outputs": [
    {
     "data": {
      "text/plain": [
       "0.5265380873156706"
      ]
     },
     "execution_count": 743,
     "metadata": {},
     "output_type": "execute_result"
    }
   ],
   "source": [
    "integral, error = integrate.quad(f, critical_x, worst_case_x)# - critical_x\n",
    "integral"
   ]
  },
  {
   "cell_type": "code",
   "execution_count": 744,
   "metadata": {},
   "outputs": [
    {
     "data": {
      "text/plain": [
       "-1.18558333795705"
      ]
     },
     "execution_count": 744,
     "metadata": {},
     "output_type": "execute_result"
    }
   ],
   "source": [
    "f0 = p * (integral - critical_x)\n",
    "f0"
   ]
  },
  {
   "attachments": {},
   "cell_type": "markdown",
   "metadata": {},
   "source": [
    "<h1>More tests</h1>"
   ]
  },
  {
   "cell_type": "code",
   "execution_count": 745,
   "metadata": {},
   "outputs": [
    {
     "data": {
      "text/plain": [
       "0.2639756155662512"
      ]
     },
     "execution_count": 745,
     "metadata": {},
     "output_type": "execute_result"
    }
   ],
   "source": [
    "test, _ = integrate.quad(lambda x: gamma.pdf(x, shape, scale=scale), critical_x, worst_case_x)\n",
    "test # same as 1-cdf(critical_x)"
   ]
  },
  {
   "cell_type": "code",
   "execution_count": 746,
   "metadata": {},
   "outputs": [
    {
     "data": {
      "text/plain": [
       "6.591854968890291"
      ]
     },
     "execution_count": 746,
     "metadata": {},
     "output_type": "execute_result"
    }
   ],
   "source": [
    "test2, _ = integrate.quad(lambda x: gamma.pdf(x, shape, scale=scale) * x / p, critical_x, worst_case_x)\n",
    "test2"
   ]
  },
  {
   "cell_type": "code",
   "execution_count": 747,
   "metadata": {},
   "outputs": [
    {
     "data": {
      "text/plain": [
       "0.07769487909221486"
      ]
     },
     "execution_count": 747,
     "metadata": {},
     "output_type": "execute_result"
    }
   ],
   "source": [
    "foo = gamma.cdf(test2-critical_x, shape, scale=scale)\n",
    "foo"
   ]
  },
  {
   "cell_type": "code",
   "execution_count": 756,
   "metadata": {},
   "outputs": [
    {
     "data": {
      "image/png": "[encoded data removed]",
      "text/plain": [
       "<Figure size 640x480 with 1 Axes>"
      ]
     },
     "metadata": {},
     "output_type": "display_data"
    },
    {
     "name": "stdout",
     "output_type": "stream",
     "text": [
      "op1_start: 0\n",
      "op1_mean: 9.0\n",
      "op2_start: 10\n",
      "worst case: 13\n",
      "critical: 5\n",
      "p: 0.2650259152973615\n"
     ]
    }
   ],
   "source": [
    "x_values = np.arange(op1[\"min_time\"], worst_case_x, step)\n",
    "y_values = [gamma.pdf(x-op1[\"min_time\"], shape, scale=scale) for x in x_values]\n",
    "plt.bar(x_values, y_values)\n",
    "plt.xlabel('X Values')\n",
    "plt.ylabel('Y Values')\n",
    "plt.title('Uncertain processing time of op1')\n",
    "plt.show()\n",
    "\n",
    "print(f\"op1_start: {op1['start']}\")\n",
    "print(f\"op1_mean: {op1['mean_time']}\")\n",
    "print(f\"op2_start: {op2_start}\")\n",
    "print(f\"worst case: {worst_case_x}\")\n",
    "print(f\"critical: {critical_x}\")\n",
    "print(f\"p: {p}\")"
   ]
  }
 ],
 "metadata": {
  "kernelspec": {
   "display_name": "su",
   "language": "python",
   "name": "python3"
  },
  "language_info": {
   "codemirror_mode": {
    "name": "ipython",
    "version": 3
   },
   "file_extension": ".py",
   "mimetype": "text/x-python",
   "name": "python",
   "nbconvert_exporter": "python",
   "pygments_lexer": "ipython3",
   "version": "3.10.9"
  },
  "orig_nbformat": 4
 },
 "nbformat": 4,
 "nbformat_minor": 2
}
