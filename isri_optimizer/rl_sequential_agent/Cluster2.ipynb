{
 "cells": [
  {
   "cell_type": "code",
   "execution_count": 1,
   "metadata": {},
   "outputs": [
    {
     "ename": "AttributeError",
     "evalue": "'dict' object has no attribute 'data'",
     "output_type": "error",
     "traceback": [
      "\u001b[1;31m---------------------------------------------------------------------------\u001b[0m",
      "\u001b[1;31mAttributeError\u001b[0m                            Traceback (most recent call last)",
      "Cell \u001b[1;32mIn[1], line 21\u001b[0m\n\u001b[0;32m     18\u001b[0m isri_dataset \u001b[38;5;241m=\u001b[39m pickle\u001b[38;5;241m.\u001b[39mload(\u001b[38;5;28mopen\u001b[39m(GA_SOLUTIONS_PATH, \u001b[38;5;124m'\u001b[39m\u001b[38;5;124mrb\u001b[39m\u001b[38;5;124m'\u001b[39m))\n\u001b[0;32m     20\u001b[0m df \u001b[38;5;241m=\u001b[39m pd\u001b[38;5;241m.\u001b[39mDataFrame()\n\u001b[1;32m---> 21\u001b[0m \u001b[38;5;28;01mfor\u001b[39;00m i \u001b[38;5;129;01min\u001b[39;00m \u001b[38;5;28mrange\u001b[39m(\u001b[38;5;28mlen\u001b[39m(isri_dataset\u001b[38;5;241m.\u001b[39mdata[\u001b[38;5;124m'\u001b[39m\u001b[38;5;124mJobdata\u001b[39m\u001b[38;5;124m'\u001b[39m])):\n\u001b[0;32m     22\u001b[0m     df_temp \u001b[38;5;241m=\u001b[39m pd\u001b[38;5;241m.\u001b[39mDataFrame\u001b[38;5;241m.\u001b[39mfrom_dict(isri_dataset\u001b[38;5;241m.\u001b[39mdata[\u001b[38;5;124m'\u001b[39m\u001b[38;5;124mJobdata\u001b[39m\u001b[38;5;124m'\u001b[39m][i], orient\u001b[38;5;241m=\u001b[39m\u001b[38;5;124m'\u001b[39m\u001b[38;5;124mindex\u001b[39m\u001b[38;5;124m'\u001b[39m)\n\u001b[0;32m     23\u001b[0m     df \u001b[38;5;241m=\u001b[39m pd\u001b[38;5;241m.\u001b[39mconcat([df, df_temp])\n",
      "\u001b[1;31mAttributeError\u001b[0m: 'dict' object has no attribute 'data'"
     ]
    }
   ],
   "source": [
    "import pickle\n",
    "import pandas as pd\n",
    "import matplotlib.pyplot as plt\n",
    "from data_preprocessing import IsriDataset\n",
    "from sklearn.cluster import KMeans\n",
    "from sklearn import metrics\n",
    "from scipy.spatial.distance import cdist\n",
    "import numpy as np\n",
    "from scipy.cluster.hierarchy import dendrogram, linkage\n",
    "from sklearn.cluster import AgglomerativeClustering\n",
    "import scipy.cluster.hierarchy as sch\n",
    "from sklearn.decomposition import PCA\n",
    "from sklearn.metrics import davies_bouldin_score, silhouette_score\n",
    "\n",
    "#GA_SOLUTIONS_PATH = \"IsriDataset.pkl\"\n",
    "GA_SOLUTIONS_PATH = \"IsriDataDict.pkl\"\n",
    "\n",
    "isri_dataset = pickle.load(open(GA_SOLUTIONS_PATH, 'rb'))\n",
    "\n",
    "df = pd.DataFrame()\n",
    "for i in range(len(isri_dataset.data['Jobdata'])):\n",
    "    df_temp = pd.DataFrame.from_dict(isri_dataset.data['Jobdata'][i], orient='index')\n",
    "    df = pd.concat([df, df_temp])\n",
    "\n",
    "df[['time1','time2','time3','time4','time5','time6','time7','time8','time9','time10','time11','time12']] = pd.DataFrame(df.times.tolist(), index= df.index)\n",
    "#print(df)\n",
    "# 'time11',\n",
    "\n",
    "df_cluster = df[['time1','time2','time3','time4','time5','time6','time7','time8','time9','time10','time12']] #due_date\n",
    "#df_cluster.to_excel('output.xlsx', index=False)\n",
    "#pd.plotting.scatter_matrix(df_cluster, alpha=0.2, figsize=(15,15))\n",
    "#plt.show()\n",
    "\n",
    "\n"
   ]
  },
  {
   "cell_type": "code",
   "execution_count": null,
   "metadata": {},
   "outputs": [],
   "source": [
    "kmeans = KMeans(n_clusters=8).fit(df_cluster)\n",
    "centroids = kmeans.cluster_centers_\n",
    "print(centroids)\n",
    "\n",
    "fig = plt.figure(figsize = (15,15))\n",
    "ax = fig.add_subplot(111, projection='3d')\n",
    "ax.scatter(df_cluster['time5'], df_cluster['time8'], df_cluster['time12'], c=kmeans.labels_.astype(float), s=50, alpha=0.5)\n",
    "#ax.scatter(centroids[:, 0], centroids[:, 1], c='red', s=50)\n",
    "plt.show()\n",
    "\n",
    "#pd.plotting.scatter_matrix(df_cluster, alpha=0.2, c=kmeans.labels_.astype(float), figsize=(15,15))\n",
    "#plt.show()\n",
    "# Matplotlib toolkits\n",
    "# PCA\n",
    "# Agglomeratives Clustern"
   ]
  },
  {
   "cell_type": "code",
   "execution_count": null,
   "metadata": {},
   "outputs": [],
   "source": [
    "\n",
    "\n",
    "pca = PCA(n_components = 4 )\n",
    "pca.fit(df_cluster)\n",
    "df_pca = pca.transform(df_cluster)\n",
    "df_pca = pd.DataFrame(df_pca, columns = ['P1', 'P2', 'P3', 'P4']) \n",
    "print(pca.score)\n"
   ]
  },
  {
   "cell_type": "code",
   "execution_count": null,
   "metadata": {},
   "outputs": [],
   "source": [
    "pca.explained_variance_ratio_"
   ]
  },
  {
   "cell_type": "code",
   "execution_count": null,
   "metadata": {},
   "outputs": [],
   "source": [
    "# Visualization before clustering\n",
    "\n",
    "plt.scatter(df_pca.P1, df_pca.P2)\n",
    "plt.xlabel('PCA 1')\n",
    "plt.ylabel('PCA 2')"
   ]
  },
  {
   "cell_type": "code",
   "execution_count": null,
   "metadata": {},
   "outputs": [],
   "source": [
    "\n",
    "plt.figure(figsize = (10,7))\n",
    "plt.title('Dendrograms')\n",
    "plt.axhline(y=3, color='r', linestyle='--')\n",
    "dend = sch.dendrogram(sch.linkage(df_pca, method='ward'))"
   ]
  },
  {
   "cell_type": "code",
   "execution_count": null,
   "metadata": {},
   "outputs": [],
   "source": [
    "model = AgglomerativeClustering(n_clusters = 6)\n",
    "\n",
    "y_means = model.fit_predict(df_pca)"
   ]
  },
  {
   "cell_type": "code",
   "execution_count": null,
   "metadata": {},
   "outputs": [],
   "source": [
    "\n",
    "\n",
    "silhouette = silhouette_score(df_pca, y_means)\n",
    "print('Silhouette Score: ', silhouette )\n",
    "\n",
    "davies_bouldin = davies_bouldin_score(df_pca, y_means)\n",
    "print('Davies Bouldin Score: ', davies_bouldin )\n",
    "\n"
   ]
  },
  {
   "cell_type": "code",
   "execution_count": null,
   "metadata": {},
   "outputs": [],
   "source": [
    "# Visualization of the result\n",
    "\n",
    "plt.figure(figsize=(10, 8))\n",
    "\n",
    "plt.title('Agglomerative Clustering with 6 Clusters')\n",
    "\n",
    "plt.scatter(df_pca.P1, df_pca.P2, c=y_means, s=100)"
   ]
  },
  {
   "cell_type": "code",
   "execution_count": null,
   "metadata": {},
   "outputs": [],
   "source": []
  }
 ],
 "metadata": {
  "kernelspec": {
   "display_name": "Masterarbeit",
   "language": "python",
   "name": "python3"
  },
  "language_info": {
   "codemirror_mode": {
    "name": "ipython",
    "version": 3
   },
   "file_extension": ".py",
   "mimetype": "text/x-python",
   "name": "python",
   "nbconvert_exporter": "python",
   "pygments_lexer": "ipython3",
   "version": "3.11.7"
  }
 },
 "nbformat": 4,
 "nbformat_minor": 2
}
