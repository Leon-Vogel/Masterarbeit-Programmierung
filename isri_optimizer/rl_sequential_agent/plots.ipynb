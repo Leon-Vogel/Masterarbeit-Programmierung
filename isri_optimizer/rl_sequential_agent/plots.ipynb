{
 "cells": [
  {
   "cell_type": "code",
   "execution_count": 11,
   "metadata": {},
   "outputs": [],
   "source": [
    "import os\n",
    "import matplotlib.pyplot as plt\n",
    "from tensorboard.backend.event_processing import event_accumulator\n",
    "from tensorflow.python.summary.summary_iterator import summary_iterator\n",
    "import tensorflow\n",
    "\n",
    "def plot_tensorboard_log(file_path):\n",
    "    # Load the tensorboard event file\n",
    "    event_acc = event_accumulator.EventAccumulator(file_path)\n",
    "    event_acc.Reload()\n",
    "\n",
    "    # Get all tags\n",
    "    tags = event_acc.Tags()['scalars']\n",
    "\n",
    "    # Create a figure for each tag\n",
    "    for tag in tags:\n",
    "        events = event_acc.Scalars(tag)\n",
    "        steps = [e.step for e in events]\n",
    "        values = [e.value for e in events]\n",
    "\n",
    "        plt.figure()\n",
    "        plt.plot(steps, values)\n",
    "        plt.title(tag)\n",
    "        plt.xlabel('Step')\n",
    "        plt.ylabel('Value')\n",
    "        plt.grid(True)\n",
    "        plt.show()\n",
    "\n"
   ]
  },
  {
   "cell_type": "code",
   "execution_count": 5,
   "metadata": {},
   "outputs": [
    {
     "ename": "OSError",
     "evalue": "[WinError 123] Die Syntax für den Dateinamen, Verzeichnisnamen oder die Datenträgerbezeichnung ist falsch: '.\\\\isri_optimizer\\rl_sequential_agent\\\\savefiles_Train1\\\\_3_dense_8_kmeans'",
     "output_type": "error",
     "traceback": [
      "\u001b[1;31m---------------------------------------------------------------------------\u001b[0m",
      "\u001b[1;31mOSError\u001b[0m                                   Traceback (most recent call last)",
      "Cell \u001b[1;32mIn[5], line 3\u001b[0m\n\u001b[0;32m      1\u001b[0m \u001b[38;5;66;03m# Example usage\u001b[39;00m\n\u001b[0;32m      2\u001b[0m log_dir \u001b[38;5;241m=\u001b[39m \u001b[38;5;124m\"\u001b[39m\u001b[38;5;124m.\u001b[39m\u001b[38;5;124m\\\u001b[39m\u001b[38;5;124misri_optimizer\u001b[39m\u001b[38;5;130;01m\\r\u001b[39;00m\u001b[38;5;124ml_sequential_agent\u001b[39m\u001b[38;5;124m\\\u001b[39m\u001b[38;5;124msavefiles_Train1\u001b[39m\u001b[38;5;124m\\\u001b[39m\u001b[38;5;124m_3_dense_8_kmeans\u001b[39m\u001b[38;5;124m\"\u001b[39m\n\u001b[1;32m----> 3\u001b[0m event_file \u001b[38;5;241m=\u001b[39m [f \u001b[38;5;28;01mfor\u001b[39;00m f \u001b[38;5;129;01min\u001b[39;00m os\u001b[38;5;241m.\u001b[39mlistdir(log_dir) \u001b[38;5;28;01mif\u001b[39;00m f\u001b[38;5;241m.\u001b[39mstartswith(\u001b[38;5;124m\"\u001b[39m\u001b[38;5;124mevents.out.tfevents\u001b[39m\u001b[38;5;124m\"\u001b[39m)][\u001b[38;5;241m0\u001b[39m]\n\u001b[0;32m      4\u001b[0m file_path \u001b[38;5;241m=\u001b[39m os\u001b[38;5;241m.\u001b[39mpath\u001b[38;5;241m.\u001b[39mjoin(log_dir, event_file)\n\u001b[0;32m      6\u001b[0m plot_tensorboard_log(file_path)\n",
      "\u001b[1;31mOSError\u001b[0m: [WinError 123] Die Syntax für den Dateinamen, Verzeichnisnamen oder die Datenträgerbezeichnung ist falsch: '.\\\\isri_optimizer\\rl_sequential_agent\\\\savefiles_Train1\\\\_3_dense_8_kmeans'"
     ]
    }
   ],
   "source": [
    "# Example usage\n",
    "log_dir = \".\\isri_optimizer\\rl_sequential_agent\\savefiles_Train1\\_3_dense_8_kmeans\"\n",
    "event_file = [f for f in os.listdir(log_dir) if f.startswith(\"events.out.tfevents\")][0]\n",
    "file_path = os.path.join(log_dir, event_file)\n",
    "\n",
    "plot_tensorboard_log(file_path)"
   ]
  },
  {
   "cell_type": "code",
   "execution_count": null,
   "metadata": {},
   "outputs": [],
   "source": [
    "Experimente = [\n",
    "    'Ergebnisse\\Mask_Exp1\\Mask_PPO_Auslastung\\[256-256-128-64]_Auslastung_001__1\\events.out.tfevents.1690909404.DESKTOP-6FHK9F7.20896.0',\n",
    "    'Ergebnisse\\Mask_Exp1\\Mask_PPO_Warteschlangen\\[256-256-128-64]_Warteschlangen_001__1\\events.out.tfevents.1690930083.DESKTOP-6FHK9F7.20896.1',\n",
    "    'Ergebnisse\\\\No_Mask_Exp3\\\\NoMask_PPO_Auslastung\\[256-256-128-64]_Auslastung_001__1\\events.out.tfevents.1691750247.DESKTOP-6FHK9F7.15332.0',\n",
    "    'Ergebnisse\\\\No_Mask_Exp3\\\\NoMask_PPO_Warteschlangen\\[256-256-128-64]_Warteschlangen_001__1\\events.out.tfevents.1691770869.DESKTOP-6FHK9F7.15332.1']\n",
    "\n",
    "names = [r'$R_{A_{M}}$', r'$R_{W_{M}}$', r'$R_{A_{P}}$', r'$R_{W_{P}}$']\n",
    "\n",
    "for i in range(len(names)):\n",
    "    d = {}\n",
    "    for event in summary_iterator(Experimente[i]):\n",
    "        for value in event.summary.value:\n",
    "            # print(value.tag)\n",
    "            if value.HasField('simple_value'):\n",
    "                if value.tag in d.keys():\n",
    "                    d[value.tag].append(value.simple_value)\n",
    "                else:\n",
    "                    d.update({str(value.tag): [value.simple_value]})\n",
    "                    # print(value.simple_value)\n",
    "    # print(d)\n",
    "    df = pd.DataFrame.from_dict(d, orient='index')\n",
    "    df = df.transpose()"
   ]
  },
  {
   "cell_type": "code",
   "execution_count": 13,
   "metadata": {},
   "outputs": [
    {
     "data": {
      "text/plain": [
       "<TFRecordDatasetV2 element_spec=TensorSpec(shape=(), dtype=tf.string, name=None)>"
      ]
     },
     "execution_count": 13,
     "metadata": {},
     "output_type": "execute_result"
    }
   ],
   "source": [
    "\n",
    "File = ['isri_optimizer\\rl_sequential_agent\\savefiles_Train1\\_3_sparse_sum_15_no_cluster\\3_sparse_sum_15_no_cluster_1\\events.out.tfevents.1717357214.DESKTOP-6FHK9F7.12692.7']\n",
    "\n",
    "\n",
    "#summary_iterator(File)\n",
    "\n",
    "Ergebnisse = tensorflow.data.TFRecordDataset(File)\n",
    "\n",
    "Ergebnisse"
   ]
  }
 ],
 "metadata": {
  "kernelspec": {
   "display_name": "Masterarbeit",
   "language": "python",
   "name": "python3"
  },
  "language_info": {
   "codemirror_mode": {
    "name": "ipython",
    "version": 3
   },
   "file_extension": ".py",
   "mimetype": "text/x-python",
   "name": "python",
   "nbconvert_exporter": "python",
   "pygments_lexer": "ipython3",
   "version": "3.11.7"
  }
 },
 "nbformat": 4,
 "nbformat_minor": 2
}
