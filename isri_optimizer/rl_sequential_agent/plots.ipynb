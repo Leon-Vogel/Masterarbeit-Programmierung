{
 "cells": [
  {
   "cell_type": "code",
   "execution_count": null,
   "metadata": {},
   "outputs": [],
   "source": [
    "import os\n",
    "import matplotlib.pyplot as plt\n",
    "from tensorboard.backend.event_processing import event_accumulator\n",
    "\n",
    "def plot_tensorboard_log(file_path):\n",
    "    # Load the tensorboard event file\n",
    "    event_acc = event_accumulator.EventAccumulator(file_path)\n",
    "    event_acc.Reload()\n",
    "\n",
    "    # Get all tags\n",
    "    tags = event_acc.Tags()['scalars']\n",
    "\n",
    "    # Create a figure for each tag\n",
    "    for tag in tags:\n",
    "        events = event_acc.Scalars(tag)\n",
    "        steps = [e.step for e in events]\n",
    "        values = [e.value for e in events]\n",
    "\n",
    "        plt.figure()\n",
    "        plt.plot(steps, values)\n",
    "        plt.title(tag)\n",
    "        plt.xlabel('Step')\n",
    "        plt.ylabel('Value')\n",
    "        plt.grid(True)\n",
    "        plt.show()\n",
    "\n"
   ]
  },
  {
   "cell_type": "code",
   "execution_count": null,
   "metadata": {},
   "outputs": [],
   "source": [
    "# Example usage\n",
    "log_dir = \"path/to/your/tensorboard/logs\"\n",
    "event_file = [f for f in os.listdir(log_dir) if f.startswith(\"events.out.tfevents\")][0]\n",
    "file_path = os.path.join(log_dir, event_file)\n",
    "\n",
    "plot_tensorboard_log(file_path)"
   ]
  }
 ],
 "metadata": {
  "language_info": {
   "name": "python"
  }
 },
 "nbformat": 4,
 "nbformat_minor": 2
}
