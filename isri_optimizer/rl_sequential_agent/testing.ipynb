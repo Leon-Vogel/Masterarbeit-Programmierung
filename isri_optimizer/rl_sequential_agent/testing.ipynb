{
 "cells": [
  {
   "cell_type": "code",
   "execution_count": 9,
   "metadata": {},
   "outputs": [],
   "source": [
    "env_config_kmeans = {\n",
    "    \"jpl\": 20,  # Example values, please adjust according to your needs\n",
    "    \"conv_speed\": 208,\n",
    "    \"n_machines\": 12,\n",
    "    \"n_lines\": 1,\n",
    "    \"window_size\": 4,\n",
    "    \"isri_dataset\": 'isri_dataset',\n",
    "    \"next_n\": 15,\n",
    "    \"last_n\": 2,\n",
    "    \"input_features\": 13,  # Example number of features per job\n",
    "    \"obs_space\": 'simple', # simple, full, small\n",
    "    \"diffsum_weight\": 0.0, #diffsum im tausender Bereich\n",
    "    \"DIFFSUM_NORM\": 1.0,\n",
    "    \"tardiness_weight\": 1.0, \n",
    "    \"TARDINESS_NORM\": 1.0,\n",
    "    \"pca\": None,\n",
    "    \"n_classes\": 8, # Muss mit Kmeans übereinstimmen\n",
    "    \"cluster_method\": \"kmeans\" #kmeans model übergeben\n",
    "}\n",
    "\n",
    "env_config_neighbour = {\n",
    "    \"jpl\": 20,  # Example values, please adjust according to your needs\n",
    "    \"conv_speed\": 208,\n",
    "    \"n_machines\": 12,\n",
    "    \"n_lines\": 1,\n",
    "    \"window_size\": 4,\n",
    "    \"isri_dataset\": 'isri_dataset',\n",
    "    \"next_n\": 15,\n",
    "    \"last_n\": 2,\n",
    "    \"input_features\": 13,  # Example number of features per job\n",
    "    \"obs_space\": 'simple', # simple, full, small\n",
    "    \"diffsum_weight\": 0.0, #diffsum im tausender Bereich\n",
    "    \"DIFFSUM_NORM\": 1.0,\n",
    "    \"tardiness_weight\": 1.0, \n",
    "    \"TARDINESS_NORM\": 1.0,\n",
    "    \"pca\": None,\n",
    "    \"n_classes\": 8, # Muss mit Kmeans übereinstimmen\n",
    "    \"cluster_method\": \"neighbour\" #kmeans model übergeben\n",
    "}\n",
    "\n",
    "config_list = [env_config_kmeans, env_config_neighbour]\n",
    "config_dict = {'kmeans': env_config_kmeans, 'neighbour':env_config_neighbour}\n"
   ]
  },
  {
   "cell_type": "code",
   "execution_count": 11,
   "metadata": {},
   "outputs": [
    {
     "name": "stdout",
     "output_type": "stream",
     "text": [
      "{'jpl': 20, 'conv_speed': 208, 'n_machines': 12, 'n_lines': 1, 'window_size': 4, 'isri_dataset': 'isri_dataset', 'next_n': 15, 'last_n': 2, 'input_features': 13, 'obs_space': 'simple', 'diffsum_weight': 0.0, 'DIFFSUM_NORM': 1.0, 'tardiness_weight': 1.0, 'TARDINESS_NORM': 1.0, 'pca': None, 'n_classes': 8, 'cluster_method': 'kmeans'}\n",
      "{'jpl': 20, 'conv_speed': 208, 'n_machines': 12, 'n_lines': 1, 'window_size': 4, 'isri_dataset': 'isri_dataset', 'next_n': 15, 'last_n': 2, 'input_features': 13, 'obs_space': 'simple', 'diffsum_weight': 0.0, 'DIFFSUM_NORM': 1.0, 'tardiness_weight': 1.0, 'TARDINESS_NORM': 1.0, 'pca': None, 'n_classes': 8, 'cluster_method': 'kmeans'}\n",
      "kmeans\n",
      "{'jpl': 20, 'conv_speed': 208, 'n_machines': 12, 'n_lines': 1, 'window_size': 4, 'isri_dataset': 'isri_dataset', 'next_n': 15, 'last_n': 2, 'input_features': 13, 'obs_space': 'simple', 'diffsum_weight': 0.0, 'DIFFSUM_NORM': 1.0, 'tardiness_weight': 1.0, 'TARDINESS_NORM': 1.0, 'pca': None, 'n_classes': 8, 'cluster_method': 'neighbour'}\n",
      "{'jpl': 20, 'conv_speed': 208, 'n_machines': 12, 'n_lines': 1, 'window_size': 4, 'isri_dataset': 'isri_dataset', 'next_n': 15, 'last_n': 2, 'input_features': 13, 'obs_space': 'simple', 'diffsum_weight': 0.0, 'DIFFSUM_NORM': 1.0, 'tardiness_weight': 1.0, 'TARDINESS_NORM': 1.0, 'pca': None, 'n_classes': 8, 'cluster_method': 'neighbour'}\n",
      "neighbour\n"
     ]
    }
   ],
   "source": [
    "for name, i in config_dict.items():\n",
    "    print(i)\n",
    "    print(str(i))\n",
    "    print(name)\n",
    "    "
   ]
  },
  {
   "cell_type": "code",
   "execution_count": 1,
   "metadata": {},
   "outputs": [
    {
     "name": "stdout",
     "output_type": "stream",
     "text": [
      "[{'key1': 10, 'key2': 'x', 'key3': True}, {'key1': 10, 'key2': 'x', 'key3': False}, {'key1': 10, 'key2': 'y', 'key3': True}, {'key1': 10, 'key2': 'y', 'key3': False}, {'key1': 20, 'key2': 'x', 'key3': True}, {'key1': 20, 'key2': 'x', 'key3': False}, {'key1': 20, 'key2': 'y', 'key3': True}, {'key1': 20, 'key2': 'y', 'key3': False}]\n"
     ]
    }
   ],
   "source": [
    "from itertools import product\n",
    "\n",
    "# Ursprungs-Dictionary\n",
    "original_dict = {\n",
    "    'a': 1,\n",
    "    'b': 2,\n",
    "    'c': 3\n",
    "}\n",
    "\n",
    "# Dictionaries mit zusätzlichen Werten\n",
    "additional_dicts = {\n",
    "    'key1': [10, 20],\n",
    "    'key2': ['x', 'y'],\n",
    "    'key3': [True, False]\n",
    "}\n",
    "\n",
    "# Generieren aller Kombinationen der zusätzlichen Werte\n",
    "keys, values = zip(*additional_dicts.items())\n",
    "combinations = [dict(zip(keys, combination)) for combination in product(*values)]\n",
    "print(combinations)"
   ]
  },
  {
   "cell_type": "code",
   "execution_count": 4,
   "metadata": {},
   "outputs": [
    {
     "name": "stdout",
     "output_type": "stream",
     "text": [
      "key1-10_key2-x_key3-True: {'a': 1, 'b': 2, 'c': 3, 'key1': 10, 'key2': 'x', 'key3': True}\n",
      "key1-10_key2-x_key3-False: {'a': 1, 'b': 2, 'c': 3, 'key1': 10, 'key2': 'x', 'key3': False}\n",
      "key1-10_key2-y_key3-True: {'a': 1, 'b': 2, 'c': 3, 'key1': 10, 'key2': 'y', 'key3': True}\n",
      "key1-10_key2-y_key3-False: {'a': 1, 'b': 2, 'c': 3, 'key1': 10, 'key2': 'y', 'key3': False}\n",
      "key1-20_key2-x_key3-True: {'a': 1, 'b': 2, 'c': 3, 'key1': 20, 'key2': 'x', 'key3': True}\n",
      "key1-20_key2-x_key3-False: {'a': 1, 'b': 2, 'c': 3, 'key1': 20, 'key2': 'x', 'key3': False}\n",
      "key1-20_key2-y_key3-True: {'a': 1, 'b': 2, 'c': 3, 'key1': 20, 'key2': 'y', 'key3': True}\n",
      "key1-20_key2-y_key3-False: {'a': 1, 'b': 2, 'c': 3, 'key1': 20, 'key2': 'y', 'key3': False}\n"
     ]
    }
   ],
   "source": [
    "\n",
    "copies = {}\n",
    "for combination in combinations:\n",
    "    # Generieren des Namens der Kopie basierend auf den Werten\n",
    "    name = \"_\".join(f\"{key}-{value}\" for key, value in combination.items())\n",
    "    \n",
    "    # Erstellen einer Kopie des Original-Dictionaries und Hinzufügen der zusätzlichen Werte\n",
    "    new_dict = original_dict.copy()\n",
    "    new_dict.update(combination)\n",
    "    \n",
    "    # Hinzufügen der neuen Kopie zum Dictionary der Kopien\n",
    "    copies[name] = new_dict\n",
    "\n",
    "# Ausgabe der Kopien\n",
    "for name, copy in copies.items():\n",
    "    print(f\"{name}: {copy}\")"
   ]
  },
  {
   "cell_type": "code",
   "execution_count": 3,
   "metadata": {},
   "outputs": [
    {
     "data": {
      "text/plain": [
       "dict"
      ]
     },
     "execution_count": 3,
     "metadata": {},
     "output_type": "execute_result"
    }
   ],
   "source": [
    "env_config_variants = {\n",
    "    \n",
    "    \"last_n\": 3,\n",
    "    \"reward_type\": \"sparse\" #sparse dense combined\n",
    "}\n",
    "type(env_config_variants)"
   ]
  },
  {
   "cell_type": "code",
   "execution_count": 6,
   "metadata": {},
   "outputs": [
    {
     "name": "stdout",
     "output_type": "stream",
     "text": [
      "3_sparse_15_kmeans\n",
      "{'jpl': 20, 'conv_speed': 208, 'n_machines': 12, 'n_lines': 1, 'window_size': 4, 'isri_dataset': 'isri_dataset', 'next_n': 15, 'input_features': 13, 'obs_space': 'simple', 'diffsum_weight': 1.0, 'DIFFSUM_NORM': 1.0, 'tardiness_weight': 1.0, 'TARDINESS_NORM': 1.0, 'pca': None, 'last_n': 3, 'reward_type': 'sparse', 'n_classes': 15, 'cluster_method': 'kmeans'}\n",
      "_____\n"
     ]
    }
   ],
   "source": [
    "\n",
    "env_config = {\n",
    "    \"jpl\": 20,  # Example values, please adjust according to your needs\n",
    "    \"conv_speed\": 208,\n",
    "    \"n_machines\": 12,\n",
    "    \"n_lines\": 1,\n",
    "    \"window_size\": 4,\n",
    "    \"isri_dataset\": \"isri_dataset\",\n",
    "    \"next_n\": 15,\n",
    "    \"input_features\": 13,  # Example number of features per job\n",
    "    \"obs_space\": 'simple', # simple, full, small\n",
    "    \"diffsum_weight\": 1.0, #diffsum im tausender Bereich\n",
    "    \"DIFFSUM_NORM\": 1.0,\n",
    "    \"tardiness_weight\": 1.0, \n",
    "    \"TARDINESS_NORM\": 1.0,\n",
    "    \"pca\": None\n",
    "}\n",
    "\n",
    "env_config_variants = {\n",
    "    \"last_n\": [3],\n",
    "    \"reward_type\": [\"sparse\"], #sparse dense combined\n",
    "    \"n_classes\": [15], # Muss mit Kmeans übereinstimmen\n",
    "    \"cluster_method\": [\"kmeans\"] #kmeans model übergeben\n",
    "}\n",
    "\n",
    "\n",
    "keys, values = zip(*env_config_variants.items())\n",
    "combinations = [dict(zip(keys, combination)) for combination in product(*values)]\n",
    "envs = {}\n",
    "for combination in combinations:\n",
    "    name = \"_\".join(f\"{value}\" for key, value in combination.items())\n",
    "    new_dict = env_config.copy()\n",
    "    new_dict.update(combination)\n",
    "    envs[name] = new_dict\n",
    "\n",
    "for name, config in envs.items():\n",
    "    for try_idx in range(1):\n",
    "        print(name)\n",
    "        print(config)\n",
    "        print(\"_____\")"
   ]
  }
 ],
 "metadata": {
  "kernelspec": {
   "display_name": "Masterarbeit",
   "language": "python",
   "name": "python3"
  },
  "language_info": {
   "codemirror_mode": {
    "name": "ipython",
    "version": 3
   },
   "file_extension": ".py",
   "mimetype": "text/x-python",
   "name": "python",
   "nbconvert_exporter": "python",
   "pygments_lexer": "ipython3",
   "version": "3.11.7"
  }
 },
 "nbformat": 4,
 "nbformat_minor": 2
}
