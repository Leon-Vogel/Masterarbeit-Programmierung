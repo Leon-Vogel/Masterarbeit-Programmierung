{
 "cells": [
  {
   "cell_type": "code",
   "execution_count": 9,
   "metadata": {},
   "outputs": [],
   "source": [
    "env_config_kmeans = {\n",
    "    \"jpl\": 20,  # Example values, please adjust according to your needs\n",
    "    \"conv_speed\": 208,\n",
    "    \"n_machines\": 12,\n",
    "    \"n_lines\": 1,\n",
    "    \"window_size\": 4,\n",
    "    \"isri_dataset\": 'isri_dataset',\n",
    "    \"next_n\": 15,\n",
    "    \"last_n\": 2,\n",
    "    \"input_features\": 13,  # Example number of features per job\n",
    "    \"obs_space\": 'simple', # simple, full, small\n",
    "    \"diffsum_weight\": 0.0, #diffsum im tausender Bereich\n",
    "    \"DIFFSUM_NORM\": 1.0,\n",
    "    \"tardiness_weight\": 1.0, \n",
    "    \"TARDINESS_NORM\": 1.0,\n",
    "    \"pca\": None,\n",
    "    \"n_classes\": 8, # Muss mit Kmeans übereinstimmen\n",
    "    \"cluster_method\": \"kmeans\" #kmeans model übergeben\n",
    "}\n",
    "\n",
    "env_config_neighbour = {\n",
    "    \"jpl\": 20,  # Example values, please adjust according to your needs\n",
    "    \"conv_speed\": 208,\n",
    "    \"n_machines\": 12,\n",
    "    \"n_lines\": 1,\n",
    "    \"window_size\": 4,\n",
    "    \"isri_dataset\": 'isri_dataset',\n",
    "    \"next_n\": 15,\n",
    "    \"last_n\": 2,\n",
    "    \"input_features\": 13,  # Example number of features per job\n",
    "    \"obs_space\": 'simple', # simple, full, small\n",
    "    \"diffsum_weight\": 0.0, #diffsum im tausender Bereich\n",
    "    \"DIFFSUM_NORM\": 1.0,\n",
    "    \"tardiness_weight\": 1.0, \n",
    "    \"TARDINESS_NORM\": 1.0,\n",
    "    \"pca\": None,\n",
    "    \"n_classes\": 8, # Muss mit Kmeans übereinstimmen\n",
    "    \"cluster_method\": \"neighbour\" #kmeans model übergeben\n",
    "}\n",
    "\n",
    "config_list = [env_config_kmeans, env_config_neighbour]\n",
    "config_dict = {'kmeans': env_config_kmeans, 'neighbour':env_config_neighbour}\n"
   ]
  },
  {
   "cell_type": "code",
   "execution_count": 11,
   "metadata": {},
   "outputs": [
    {
     "name": "stdout",
     "output_type": "stream",
     "text": [
      "{'jpl': 20, 'conv_speed': 208, 'n_machines': 12, 'n_lines': 1, 'window_size': 4, 'isri_dataset': 'isri_dataset', 'next_n': 15, 'last_n': 2, 'input_features': 13, 'obs_space': 'simple', 'diffsum_weight': 0.0, 'DIFFSUM_NORM': 1.0, 'tardiness_weight': 1.0, 'TARDINESS_NORM': 1.0, 'pca': None, 'n_classes': 8, 'cluster_method': 'kmeans'}\n",
      "{'jpl': 20, 'conv_speed': 208, 'n_machines': 12, 'n_lines': 1, 'window_size': 4, 'isri_dataset': 'isri_dataset', 'next_n': 15, 'last_n': 2, 'input_features': 13, 'obs_space': 'simple', 'diffsum_weight': 0.0, 'DIFFSUM_NORM': 1.0, 'tardiness_weight': 1.0, 'TARDINESS_NORM': 1.0, 'pca': None, 'n_classes': 8, 'cluster_method': 'kmeans'}\n",
      "kmeans\n",
      "{'jpl': 20, 'conv_speed': 208, 'n_machines': 12, 'n_lines': 1, 'window_size': 4, 'isri_dataset': 'isri_dataset', 'next_n': 15, 'last_n': 2, 'input_features': 13, 'obs_space': 'simple', 'diffsum_weight': 0.0, 'DIFFSUM_NORM': 1.0, 'tardiness_weight': 1.0, 'TARDINESS_NORM': 1.0, 'pca': None, 'n_classes': 8, 'cluster_method': 'neighbour'}\n",
      "{'jpl': 20, 'conv_speed': 208, 'n_machines': 12, 'n_lines': 1, 'window_size': 4, 'isri_dataset': 'isri_dataset', 'next_n': 15, 'last_n': 2, 'input_features': 13, 'obs_space': 'simple', 'diffsum_weight': 0.0, 'DIFFSUM_NORM': 1.0, 'tardiness_weight': 1.0, 'TARDINESS_NORM': 1.0, 'pca': None, 'n_classes': 8, 'cluster_method': 'neighbour'}\n",
      "neighbour\n"
     ]
    }
   ],
   "source": [
    "for name, i in config_dict.items():\n",
    "    print(i)\n",
    "    print(str(i))\n",
    "    print(name)\n",
    "    "
   ]
  },
  {
   "cell_type": "code",
   "execution_count": 1,
   "metadata": {},
   "outputs": [
    {
     "name": "stdout",
     "output_type": "stream",
     "text": [
      "[{'key1': 10, 'key2': 'x', 'key3': True}, {'key1': 10, 'key2': 'x', 'key3': False}, {'key1': 10, 'key2': 'y', 'key3': True}, {'key1': 10, 'key2': 'y', 'key3': False}, {'key1': 20, 'key2': 'x', 'key3': True}, {'key1': 20, 'key2': 'x', 'key3': False}, {'key1': 20, 'key2': 'y', 'key3': True}, {'key1': 20, 'key2': 'y', 'key3': False}]\n"
     ]
    }
   ],
   "source": [
    "from itertools import product\n",
    "\n",
    "# Ursprungs-Dictionary\n",
    "original_dict = {\n",
    "    'a': 1,\n",
    "    'b': 2,\n",
    "    'c': 3\n",
    "}\n",
    "\n",
    "# Dictionaries mit zusätzlichen Werten\n",
    "additional_dicts = {\n",
    "    'key1': [10, 20],\n",
    "    'key2': ['x', 'y'],\n",
    "    'key3': [True, False]\n",
    "}\n",
    "\n",
    "# Generieren aller Kombinationen der zusätzlichen Werte\n",
    "keys, values = zip(*additional_dicts.items())\n",
    "combinations = [dict(zip(keys, combination)) for combination in product(*values)]\n",
    "print(combinations)"
   ]
  },
  {
   "cell_type": "code",
   "execution_count": 2,
   "metadata": {},
   "outputs": [
    {
     "name": "stdout",
     "output_type": "stream",
     "text": [
      "Kopie 1: {'a': 1, 'b': 2, 'c': 3, 'key1': 10, 'key2': 'x', 'key3': True}\n",
      "Kopie 2: {'a': 1, 'b': 2, 'c': 3, 'key1': 10, 'key2': 'x', 'key3': False}\n",
      "Kopie 3: {'a': 1, 'b': 2, 'c': 3, 'key1': 10, 'key2': 'y', 'key3': True}\n",
      "Kopie 4: {'a': 1, 'b': 2, 'c': 3, 'key1': 10, 'key2': 'y', 'key3': False}\n",
      "Kopie 5: {'a': 1, 'b': 2, 'c': 3, 'key1': 20, 'key2': 'x', 'key3': True}\n",
      "Kopie 6: {'a': 1, 'b': 2, 'c': 3, 'key1': 20, 'key2': 'x', 'key3': False}\n",
      "Kopie 7: {'a': 1, 'b': 2, 'c': 3, 'key1': 20, 'key2': 'y', 'key3': True}\n",
      "Kopie 8: {'a': 1, 'b': 2, 'c': 3, 'key1': 20, 'key2': 'y', 'key3': False}\n"
     ]
    }
   ],
   "source": [
    "\n",
    "# Erstellen der Kopien und Hinzufügen der zusätzlichen Werte\n",
    "copies = []\n",
    "for combination in combinations:\n",
    "    new_dict = original_dict.copy()  # Erstellen einer Kopie des Original-Dictionaries\n",
    "    new_dict.update(combination)  # Hinzufügen der zusätzlichen Werte\n",
    "    copies.append(new_dict)  # Hinzufügen der neuen Kopie zur Liste\n",
    "\n",
    "# Ausgabe der Kopien\n",
    "for i, copy in enumerate(copies, 1):\n",
    "    print(f\"Kopie {i}: {copy}\")"
   ]
  }
 ],
 "metadata": {
  "kernelspec": {
   "display_name": "Masterarbeit",
   "language": "python",
   "name": "python3"
  },
  "language_info": {
   "codemirror_mode": {
    "name": "ipython",
    "version": 3
   },
   "file_extension": ".py",
   "mimetype": "text/x-python",
   "name": "python",
   "nbconvert_exporter": "python",
   "pygments_lexer": "ipython3",
   "version": "3.11.7"
  }
 },
 "nbformat": 4,
 "nbformat_minor": 2
}
