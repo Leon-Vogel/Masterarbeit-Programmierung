{
 "cells": [
  {
   "cell_type": "code",
   "execution_count": 9,
   "metadata": {},
   "outputs": [],
   "source": [
    "env_config_kmeans = {\n",
    "    \"jpl\": 20,  # Example values, please adjust according to your needs\n",
    "    \"conv_speed\": 208,\n",
    "    \"n_machines\": 12,\n",
    "    \"n_lines\": 1,\n",
    "    \"window_size\": 4,\n",
    "    \"isri_dataset\": 'isri_dataset',\n",
    "    \"next_n\": 15,\n",
    "    \"last_n\": 2,\n",
    "    \"input_features\": 13,  # Example number of features per job\n",
    "    \"obs_space\": 'simple', # simple, full, small\n",
    "    \"diffsum_weight\": 0.0, #diffsum im tausender Bereich\n",
    "    \"DIFFSUM_NORM\": 1.0,\n",
    "    \"tardiness_weight\": 1.0, \n",
    "    \"TARDINESS_NORM\": 1.0,\n",
    "    \"pca\": None,\n",
    "    \"n_classes\": 8, # Muss mit Kmeans übereinstimmen\n",
    "    \"cluster_method\": \"kmeans\" #kmeans model übergeben\n",
    "}\n",
    "\n",
    "env_config_neighbour = {\n",
    "    \"jpl\": 20,  # Example values, please adjust according to your needs\n",
    "    \"conv_speed\": 208,\n",
    "    \"n_machines\": 12,\n",
    "    \"n_lines\": 1,\n",
    "    \"window_size\": 4,\n",
    "    \"isri_dataset\": 'isri_dataset',\n",
    "    \"next_n\": 15,\n",
    "    \"last_n\": 2,\n",
    "    \"input_features\": 13,  # Example number of features per job\n",
    "    \"obs_space\": 'simple', # simple, full, small\n",
    "    \"diffsum_weight\": 0.0, #diffsum im tausender Bereich\n",
    "    \"DIFFSUM_NORM\": 1.0,\n",
    "    \"tardiness_weight\": 1.0, \n",
    "    \"TARDINESS_NORM\": 1.0,\n",
    "    \"pca\": None,\n",
    "    \"n_classes\": 8, # Muss mit Kmeans übereinstimmen\n",
    "    \"cluster_method\": \"neighbour\" #kmeans model übergeben\n",
    "}\n",
    "\n",
    "config_list = [env_config_kmeans, env_config_neighbour]\n",
    "config_dict = {'kmeans': env_config_kmeans, 'neighbour':env_config_neighbour}\n"
   ]
  },
  {
   "cell_type": "code",
   "execution_count": 11,
   "metadata": {},
   "outputs": [
    {
     "name": "stdout",
     "output_type": "stream",
     "text": [
      "{'jpl': 20, 'conv_speed': 208, 'n_machines': 12, 'n_lines': 1, 'window_size': 4, 'isri_dataset': 'isri_dataset', 'next_n': 15, 'last_n': 2, 'input_features': 13, 'obs_space': 'simple', 'diffsum_weight': 0.0, 'DIFFSUM_NORM': 1.0, 'tardiness_weight': 1.0, 'TARDINESS_NORM': 1.0, 'pca': None, 'n_classes': 8, 'cluster_method': 'kmeans'}\n",
      "{'jpl': 20, 'conv_speed': 208, 'n_machines': 12, 'n_lines': 1, 'window_size': 4, 'isri_dataset': 'isri_dataset', 'next_n': 15, 'last_n': 2, 'input_features': 13, 'obs_space': 'simple', 'diffsum_weight': 0.0, 'DIFFSUM_NORM': 1.0, 'tardiness_weight': 1.0, 'TARDINESS_NORM': 1.0, 'pca': None, 'n_classes': 8, 'cluster_method': 'kmeans'}\n",
      "kmeans\n",
      "{'jpl': 20, 'conv_speed': 208, 'n_machines': 12, 'n_lines': 1, 'window_size': 4, 'isri_dataset': 'isri_dataset', 'next_n': 15, 'last_n': 2, 'input_features': 13, 'obs_space': 'simple', 'diffsum_weight': 0.0, 'DIFFSUM_NORM': 1.0, 'tardiness_weight': 1.0, 'TARDINESS_NORM': 1.0, 'pca': None, 'n_classes': 8, 'cluster_method': 'neighbour'}\n",
      "{'jpl': 20, 'conv_speed': 208, 'n_machines': 12, 'n_lines': 1, 'window_size': 4, 'isri_dataset': 'isri_dataset', 'next_n': 15, 'last_n': 2, 'input_features': 13, 'obs_space': 'simple', 'diffsum_weight': 0.0, 'DIFFSUM_NORM': 1.0, 'tardiness_weight': 1.0, 'TARDINESS_NORM': 1.0, 'pca': None, 'n_classes': 8, 'cluster_method': 'neighbour'}\n",
      "neighbour\n"
     ]
    }
   ],
   "source": [
    "for name, i in config_dict.items():\n",
    "    print(i)\n",
    "    print(str(i))\n",
    "    print(name)\n",
    "    "
   ]
  }
 ],
 "metadata": {
  "kernelspec": {
   "display_name": "Masterarbeit",
   "language": "python",
   "name": "python3"
  },
  "language_info": {
   "codemirror_mode": {
    "name": "ipython",
    "version": 3
   },
   "file_extension": ".py",
   "mimetype": "text/x-python",
   "name": "python",
   "nbconvert_exporter": "python",
   "pygments_lexer": "ipython3",
   "version": "3.11.7"
  }
 },
 "nbformat": 4,
 "nbformat_minor": 2
}
